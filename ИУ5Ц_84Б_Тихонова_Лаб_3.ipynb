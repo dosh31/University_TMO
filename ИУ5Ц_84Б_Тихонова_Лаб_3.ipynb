{
 "cells": [
  {
   "cell_type": "code",
   "execution_count": 2,
   "metadata": {},
   "outputs": [],
   "source": [
    "import pandas as pd\n",
    "from sklearn.model_selection import train_test_split, GridSearchCV, RandomizedSearchCV, KFold, StratifiedKFold\n",
    "from sklearn.neighbors import KNeighborsClassifier, KNeighborsRegressor\n",
    "from sklearn.preprocessing import StandardScaler\n",
    "from sklearn.metrics import accuracy_score, mean_squared_error, r2_score, classification_report\n",
    "import numpy as np"
   ]
  },
  {
   "cell_type": "code",
   "execution_count": null,
   "metadata": {},
   "outputs": [
    {
     "name": "stdout",
     "output_type": "stream",
     "text": [
      "Загружен встроенный датасет breast_cancer.\n"
     ]
    }
   ],
   "source": [
    "# 1. Выбор и загрузка датасета (Breast Cancer Wisconsin (Diagnostic))\n",
    "# Этот датасет подходит для задачи классификации.\n",
    "try:\n",
    "    from sklearn.datasets import load_breast_cancer\n",
    "    cancer = load_breast_cancer()\n",
    "    df = pd.DataFrame(cancer.data, columns=cancer.feature_names)\n",
    "    df['target'] = cancer.target  # Целевая переменная\n",
    "    print(\"Загружен встроенный датасет breast_cancer.\")\n",
    "\n",
    "except ImportError:\n",
    "    print(\"Датасет breast_cancer не найден. Замените код загрузки.\")\n"
   ]
  },
  {
   "cell_type": "code",
   "execution_count": 4,
   "metadata": {},
   "outputs": [],
   "source": [
    "# 2. Предварительная обработка данных (заполнение пропусков, кодирование)\n",
    "#  В breast cancer dataset нет пропусков или категориальных признаков, так что этот шаг можно пропустить.\n",
    "#  В реальных данных вам может потребоваться:\n",
    "#  * Заполнение пропусков: df.fillna(df.mean(), inplace=True)\n",
    "#  * Кодирование категориальных признаков: pd.get_dummies(df, columns=['категориальный_столбец'])\n",
    "\n",
    "# 3. Разделение выборки на обучающую и тестовую\n",
    "X = df.drop('target', axis=1)  # Признаки\n",
    "y = df['target']  # Целевая переменная\n",
    "\n",
    "X_train, X_test, y_train, y_test = train_test_split(X, y, test_size=0.3, random_state=42, stratify=y) # stratify=y для сохранения пропорций классов\n"
   ]
  },
  {
   "cell_type": "code",
   "execution_count": 5,
   "metadata": {},
   "outputs": [],
   "source": [
    "# 4. Масштабирование признаков\n",
    "# Важно для KNeighbors, так как он чувствителен к масштабу.\n",
    "scaler = StandardScaler()\n",
    "X_train = scaler.fit_transform(X_train)\n",
    "X_test = scaler.transform(X_test)\n"
   ]
  },
  {
   "cell_type": "code",
   "execution_count": 7,
   "metadata": {},
   "outputs": [
    {
     "name": "stdout",
     "output_type": "stream",
     "text": [
      "KNN с K=5:\n",
      "              precision    recall  f1-score   support\n",
      "\n",
      "           0       1.00      0.89      0.94        64\n",
      "           1       0.94      1.00      0.97       107\n",
      "\n",
      "    accuracy                           0.96       171\n",
      "   macro avg       0.97      0.95      0.96       171\n",
      "weighted avg       0.96      0.96      0.96       171\n",
      "\n"
     ]
    }
   ],
   "source": [
    "\n",
    "\n",
    "# 5. Обучение модели KNN с произвольным K и оценка качества\n",
    "k_arbitrary = 5  # Пример значения K\n",
    "knn_arbitrary = KNeighborsClassifier(n_neighbors=k_arbitrary)\n",
    "knn_arbitrary.fit(X_train, y_train)\n",
    "y_pred_arbitrary = knn_arbitrary.predict(X_test)\n",
    "\n",
    "print(f\"KNN с K={k_arbitrary}:\")\n",
    "print(classification_report(y_test, y_pred_arbitrary))\n",
    "#print(\"Accuracy:\", accuracy_score(y_test, y_pred_arbitrary)) #Из classification report всё видно,  accuracy тоже есть.\n"
   ]
  },
  {
   "cell_type": "code",
   "execution_count": 8,
   "metadata": {},
   "outputs": [
    {
     "name": "stdout",
     "output_type": "stream",
     "text": [
      "GridSearchCV:\n",
      "Лучшие параметры: {'n_neighbors': 5}\n",
      "Лучшая оценка: 0.9672784810126581\n",
      "              precision    recall  f1-score   support\n",
      "\n",
      "           0       1.00      0.89      0.94        64\n",
      "           1       0.94      1.00      0.97       107\n",
      "\n",
      "    accuracy                           0.96       171\n",
      "   macro avg       0.97      0.95      0.96       171\n",
      "weighted avg       0.96      0.96      0.96       171\n",
      "\n"
     ]
    }
   ],
   "source": [
    "# 6. Подбор гиперпараметра K с помощью GridSearchCV и кросс-валидации\n",
    "# a) GridSearchCV\n",
    "param_grid = {'n_neighbors': list(range(1, 31))}  # Диапазон значений K для перебора\n",
    "grid_search = GridSearchCV(KNeighborsClassifier(), param_grid, cv=KFold(n_splits=5, shuffle=True, random_state=42), scoring='accuracy')\n",
    "grid_search.fit(X_train, y_train)\n",
    "\n",
    "print(\"GridSearchCV:\")\n",
    "print(\"Лучшие параметры:\", grid_search.best_params_)\n",
    "print(\"Лучшая оценка:\", grid_search.best_score_)\n",
    "\n",
    "best_knn_grid = grid_search.best_estimator_\n",
    "y_pred_grid = best_knn_grid.predict(X_test)\n",
    "print(classification_report(y_test, y_pred_grid))\n"
   ]
  },
  {
   "cell_type": "code",
   "execution_count": 9,
   "metadata": {},
   "outputs": [
    {
     "name": "stdout",
     "output_type": "stream",
     "text": [
      "\n",
      "RandomizedSearchCV:\n",
      "Лучшие параметры: {'weights': 'distance', 'n_neighbors': 7, 'metric': 'manhattan'}\n",
      "Лучшая оценка: 0.9723734177215191\n",
      "              precision    recall  f1-score   support\n",
      "\n",
      "           0       1.00      0.89      0.94        64\n",
      "           1       0.94      1.00      0.97       107\n",
      "\n",
      "    accuracy                           0.96       171\n",
      "   macro avg       0.97      0.95      0.96       171\n",
      "weighted avg       0.96      0.96      0.96       171\n",
      "\n"
     ]
    }
   ],
   "source": [
    "# b) RandomizedSearchCV\n",
    "param_distributions = {'n_neighbors': list(range(1, 31)),\n",
    "                       'weights': ['uniform', 'distance'],\n",
    "                       'metric': ['euclidean', 'manhattan']} #Дополнительные параметры для RandomizedSearchCV\n",
    "random_search = RandomizedSearchCV(KNeighborsClassifier(), param_distributions, cv=StratifiedKFold(n_splits=5, shuffle=True, random_state=42), scoring='accuracy', n_iter=10, random_state=42)\n",
    "random_search.fit(X_train, y_train)\n",
    "\n",
    "print(\"\\nRandomizedSearchCV:\")\n",
    "print(\"Лучшие параметры:\", random_search.best_params_)\n",
    "print(\"Лучшая оценка:\", random_search.best_score_)\n",
    "\n",
    "best_knn_random = random_search.best_estimator_\n",
    "y_pred_random = best_knn_random.predict(X_test)\n",
    "print(classification_report(y_test, y_pred_random))"
   ]
  },
  {
   "cell_type": "code",
   "execution_count": 10,
   "metadata": {},
   "outputs": [
    {
     "name": "stdout",
     "output_type": "stream",
     "text": [
      "\n",
      "Сравнение метрик:\n",
      "KNN с K=5 (произвольный):\n",
      "              precision    recall  f1-score   support\n",
      "\n",
      "           0       1.00      0.89      0.94        64\n",
      "           1       0.94      1.00      0.97       107\n",
      "\n",
      "    accuracy                           0.96       171\n",
      "   macro avg       0.97      0.95      0.96       171\n",
      "weighted avg       0.96      0.96      0.96       171\n",
      "\n",
      "\n",
      "KNN с GridSearchCV:\n",
      "              precision    recall  f1-score   support\n",
      "\n",
      "           0       1.00      0.89      0.94        64\n",
      "           1       0.94      1.00      0.97       107\n",
      "\n",
      "    accuracy                           0.96       171\n",
      "   macro avg       0.97      0.95      0.96       171\n",
      "weighted avg       0.96      0.96      0.96       171\n",
      "\n",
      "\n",
      "KNN с RandomizedSearchCV:\n",
      "              precision    recall  f1-score   support\n",
      "\n",
      "           0       1.00      0.89      0.94        64\n",
      "           1       0.94      1.00      0.97       107\n",
      "\n",
      "    accuracy                           0.96       171\n",
      "   macro avg       0.97      0.95      0.96       171\n",
      "weighted avg       0.96      0.96      0.96       171\n",
      "\n"
     ]
    }
   ],
   "source": [
    "\n",
    "\n",
    "# 7. Сравнение метрик качества\n",
    "\n",
    "# Этот шаг подразумевает анализ classification reports, чтобы сравнить,\n",
    "#  какая модель показала лучшие результаты по accuracy, precision, recall, f1-score.\n",
    "#  Обычно, RandomizedSearchCV дает более хорошие результаты, чем KNeighborsClassifier с K=5.\n",
    "#  GridSearchCV может показать результаты лучше, чем RandomizedSearchCV, но работает дольше.\n",
    "#  Вывод о лучших параметрах нужно делать исходя из classification report.\n",
    "\n",
    "print(\"\\nСравнение метрик:\")\n",
    "print(\"KNN с K=5 (произвольный):\")\n",
    "print(classification_report(y_test, y_pred_arbitrary))\n",
    "print(\"\\nKNN с GridSearchCV:\")\n",
    "print(classification_report(y_test, y_pred_grid))\n",
    "print(\"\\nKNN с RandomizedSearchCV:\")\n",
    "print(classification_report(y_test, y_pred_random))"
   ]
  },
  {
   "cell_type": "code",
   "execution_count": null,
   "metadata": {},
   "outputs": [],
   "source": []
  },
  {
   "cell_type": "code",
   "execution_count": null,
   "metadata": {},
   "outputs": [],
   "source": []
  },
  {
   "cell_type": "code",
   "execution_count": null,
   "metadata": {},
   "outputs": [],
   "source": []
  },
  {
   "cell_type": "code",
   "execution_count": null,
   "metadata": {},
   "outputs": [],
   "source": []
  }
 ],
 "metadata": {
  "kernelspec": {
   "display_name": "Python 3",
   "language": "python",
   "name": "python3"
  },
  "language_info": {
   "codemirror_mode": {
    "name": "ipython",
    "version": 3
   },
   "file_extension": ".py",
   "mimetype": "text/x-python",
   "name": "python",
   "nbconvert_exporter": "python",
   "pygments_lexer": "ipython3",
   "version": "3.13.0"
  }
 },
 "nbformat": 4,
 "nbformat_minor": 2
}
