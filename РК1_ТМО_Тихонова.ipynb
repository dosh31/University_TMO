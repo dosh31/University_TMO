{
 "cells": [
  {
   "cell_type": "markdown",
   "id": "e4dc6bc1-9832-4bc3-b4ce-1c1f1a769801",
   "metadata": {},
   "source": [
    "## Задача №3.\n",
    "Для заданного набора данных произведите масштабирование данных (для одного признака) и преобразование категориальных признаков в количественные двумя способами (label encoding, one hot encoding) для одного признака. Какие методы Вы использовали для решения задачи и почему?"
   ]
  },
  {
   "cell_type": "markdown",
   "id": "09628806-d589-4b43-b27e-e331f1a4f16c",
   "metadata": {},
   "source": [
    "### Доп.требование: для произвольной колонки данных построить график \"Скрипичная диаграмма (violin plot)\"."
   ]
  },
  {
   "cell_type": "code",
   "execution_count": 23,
   "id": "41164dc4-7f45-438b-946d-36d8fd8968d0",
   "metadata": {},
   "outputs": [],
   "source": [
    "# импорт библиотек \n",
    "import pandas as pd\n",
    "import numpy as np\n",
    "import seaborn as sns\n",
    "import matplotlib.pyplot as plt\n",
    "from sklearn.preprocessing import MinMaxScaler, StandardScaler, LabelEncoder, OneHotEncoder"
   ]
  },
  {
   "cell_type": "code",
   "execution_count": null,
   "id": "4ae99b5b-6454-431f-b26e-5b72538a9f86",
   "metadata": {},
   "outputs": [],
   "source": []
  },
  {
   "cell_type": "code",
   "execution_count": 24,
   "id": "76f500e4-5458-4f64-88a8-c82b15fd11a9",
   "metadata": {},
   "outputs": [
    {
     "data": {
      "text/html": [
       "<div>\n",
       "<style scoped>\n",
       "    .dataframe tbody tr th:only-of-type {\n",
       "        vertical-align: middle;\n",
       "    }\n",
       "\n",
       "    .dataframe tbody tr th {\n",
       "        vertical-align: top;\n",
       "    }\n",
       "\n",
       "    .dataframe thead th {\n",
       "        text-align: right;\n",
       "    }\n",
       "</style>\n",
       "<table border=\"1\" class=\"dataframe\">\n",
       "  <thead>\n",
       "    <tr style=\"text-align: right;\">\n",
       "      <th></th>\n",
       "      <th>CRIM</th>\n",
       "      <th>ZN</th>\n",
       "      <th>INDUS</th>\n",
       "      <th>CHAS</th>\n",
       "      <th>NOX</th>\n",
       "      <th>RM</th>\n",
       "      <th>AGE</th>\n",
       "      <th>DIS</th>\n",
       "      <th>RAD</th>\n",
       "      <th>TAX</th>\n",
       "      <th>PTRATIO</th>\n",
       "      <th>B</th>\n",
       "      <th>LSTAT</th>\n",
       "      <th>MEDV</th>\n",
       "    </tr>\n",
       "  </thead>\n",
       "  <tbody>\n",
       "    <tr>\n",
       "      <th>0</th>\n",
       "      <td>0.00632</td>\n",
       "      <td>18.0</td>\n",
       "      <td>2.31</td>\n",
       "      <td>0.0</td>\n",
       "      <td>0.538</td>\n",
       "      <td>6.575</td>\n",
       "      <td>65.2</td>\n",
       "      <td>4.0900</td>\n",
       "      <td>1</td>\n",
       "      <td>296</td>\n",
       "      <td>15.3</td>\n",
       "      <td>396.90</td>\n",
       "      <td>4.98</td>\n",
       "      <td>24.0</td>\n",
       "    </tr>\n",
       "    <tr>\n",
       "      <th>1</th>\n",
       "      <td>0.02731</td>\n",
       "      <td>0.0</td>\n",
       "      <td>7.07</td>\n",
       "      <td>0.0</td>\n",
       "      <td>0.469</td>\n",
       "      <td>6.421</td>\n",
       "      <td>78.9</td>\n",
       "      <td>4.9671</td>\n",
       "      <td>2</td>\n",
       "      <td>242</td>\n",
       "      <td>17.8</td>\n",
       "      <td>396.90</td>\n",
       "      <td>9.14</td>\n",
       "      <td>21.6</td>\n",
       "    </tr>\n",
       "    <tr>\n",
       "      <th>2</th>\n",
       "      <td>0.02729</td>\n",
       "      <td>0.0</td>\n",
       "      <td>7.07</td>\n",
       "      <td>0.0</td>\n",
       "      <td>0.469</td>\n",
       "      <td>7.185</td>\n",
       "      <td>61.1</td>\n",
       "      <td>4.9671</td>\n",
       "      <td>2</td>\n",
       "      <td>242</td>\n",
       "      <td>17.8</td>\n",
       "      <td>392.83</td>\n",
       "      <td>4.03</td>\n",
       "      <td>34.7</td>\n",
       "    </tr>\n",
       "    <tr>\n",
       "      <th>3</th>\n",
       "      <td>0.03237</td>\n",
       "      <td>0.0</td>\n",
       "      <td>2.18</td>\n",
       "      <td>0.0</td>\n",
       "      <td>0.458</td>\n",
       "      <td>6.998</td>\n",
       "      <td>45.8</td>\n",
       "      <td>6.0622</td>\n",
       "      <td>3</td>\n",
       "      <td>222</td>\n",
       "      <td>18.7</td>\n",
       "      <td>394.63</td>\n",
       "      <td>2.94</td>\n",
       "      <td>33.4</td>\n",
       "    </tr>\n",
       "    <tr>\n",
       "      <th>4</th>\n",
       "      <td>0.06905</td>\n",
       "      <td>0.0</td>\n",
       "      <td>2.18</td>\n",
       "      <td>0.0</td>\n",
       "      <td>0.458</td>\n",
       "      <td>7.147</td>\n",
       "      <td>54.2</td>\n",
       "      <td>6.0622</td>\n",
       "      <td>3</td>\n",
       "      <td>222</td>\n",
       "      <td>18.7</td>\n",
       "      <td>396.90</td>\n",
       "      <td>NaN</td>\n",
       "      <td>36.2</td>\n",
       "    </tr>\n",
       "  </tbody>\n",
       "</table>\n",
       "</div>"
      ],
      "text/plain": [
       "      CRIM    ZN  INDUS  CHAS    NOX     RM   AGE     DIS  RAD  TAX  PTRATIO  \\\n",
       "0  0.00632  18.0   2.31   0.0  0.538  6.575  65.2  4.0900    1  296     15.3   \n",
       "1  0.02731   0.0   7.07   0.0  0.469  6.421  78.9  4.9671    2  242     17.8   \n",
       "2  0.02729   0.0   7.07   0.0  0.469  7.185  61.1  4.9671    2  242     17.8   \n",
       "3  0.03237   0.0   2.18   0.0  0.458  6.998  45.8  6.0622    3  222     18.7   \n",
       "4  0.06905   0.0   2.18   0.0  0.458  7.147  54.2  6.0622    3  222     18.7   \n",
       "\n",
       "        B  LSTAT  MEDV  \n",
       "0  396.90   4.98  24.0  \n",
       "1  396.90   9.14  21.6  \n",
       "2  392.83   4.03  34.7  \n",
       "3  394.63   2.94  33.4  \n",
       "4  396.90    NaN  36.2  "
      ]
     },
     "execution_count": 24,
     "metadata": {},
     "output_type": "execute_result"
    }
   ],
   "source": [
    "# Загрузка данных\n",
    "df = pd.read_csv(\"HousingData.csv\")  # Укажите корректный путь к файлу\n",
    "# Вывод первых строк чтобы проверить структуру данных\n",
    "df.head()"
   ]
  },
  {
   "cell_type": "code",
   "execution_count": 25,
   "id": "0989d298-1609-4961-846b-2602089c0cb7",
   "metadata": {},
   "outputs": [],
   "source": [
    "# Обработка пропущенных значений (заполняем медианными значениями)\n",
    "df.fillna(df.median(numeric_only=True), inplace=True)"
   ]
  },
  {
   "cell_type": "code",
   "execution_count": 26,
   "id": "f7c98345-98e1-439d-a4eb-143e4ccf173f",
   "metadata": {},
   "outputs": [],
   "source": [
    "# Выбираем числовой признак для масштабирования (например, 'CRIM' - уровень преступности)\n",
    "feature = 'CRIM'\n",
    "scaler_minmax = MinMaxScaler() # Нормализация (приведение к диапазону [0,1])\n",
    "scaler_standard = StandardScaler()  # Стандартизация (среднее = 0, стандартное отклонение = 1)"
   ]
  },
  {
   "cell_type": "code",
   "execution_count": 27,
   "id": "bf94ac46-d1db-4ef0-8aa7-b48b7130d9d6",
   "metadata": {},
   "outputs": [],
   "source": [
    "df['CRIM_minmax'] = scaler_minmax.fit_transform(df[[feature]])\n",
    "df['CRIM_standard'] = scaler_standard.fit_transform(df[[feature]])"
   ]
  },
  {
   "cell_type": "code",
   "execution_count": 28,
   "id": "5ac2f16b-a862-4fe8-b43d-3513070cbf83",
   "metadata": {},
   "outputs": [],
   "source": [
    "# Обнаружение и удаление выбросов по IQR-методу (межквартильный размах)\n",
    "Q1 = df['CRIM'].quantile(0.25)\n",
    "Q3 = df['CRIM'].quantile(0.75)\n",
    "IQR = Q3 - Q1\n",
    "\n",
    "# Оставляем только значения в пределах [Q1 - 1.5*IQR, Q3 + 1.5*IQR]\n",
    "df = df[(df['CRIM'] >= (Q1 - 1.5 * IQR)) & (df['CRIM'] <= (Q3 + 1.5 * IQR))]"
   ]
  },
  {
   "cell_type": "code",
   "execution_count": 29,
   "id": "bc09eb0c-1792-463b-8797-7d6a61ca5847",
   "metadata": {},
   "outputs": [],
   "source": [
    "# Выбираем категориальный признак (например, 'CHAS' - граница реки Чарльз, бинарный признак)\n",
    "categorical_feature = 'CHAS'\n",
    "# Заполнение пропущенных значений модальным значением (наиболее частым)\n",
    "df.fillna({categorical_feature: df[categorical_feature].mode()[0]}, inplace=True)\n",
    "\n"
   ]
  },
  {
   "cell_type": "markdown",
   "id": "a3983907-55e8-4bbb-aedc-f2604eb94587",
   "metadata": {},
   "source": [
    "### Label Encoding (преобразование категорий в числа)"
   ]
  },
  {
   "cell_type": "code",
   "execution_count": 30,
   "id": "cca7cc30-0c5d-4359-b11e-171f66ad3f03",
   "metadata": {},
   "outputs": [],
   "source": [
    "df['CHAS_label_encoded'] = LabelEncoder().fit_transform(df[categorical_feature])"
   ]
  },
  {
   "cell_type": "markdown",
   "id": "d50b95ce-ae67-4df4-b154-fc0c212f7add",
   "metadata": {},
   "source": [
    "### One-Hot Encoding (разбиение категориального признака на отдельные бинарные столбцы)"
   ]
  },
  {
   "cell_type": "code",
   "execution_count": 31,
   "id": "0d8fc656-4ce5-42fa-931c-01acee4f8473",
   "metadata": {},
   "outputs": [],
   "source": [
    "ohe = OneHotEncoder(sparse_output=False, drop='first')  # Drop first для избежания dummy variable trap\n",
    "ohe_result = ohe.fit_transform(df[[categorical_feature]])"
   ]
  },
  {
   "cell_type": "code",
   "execution_count": 32,
   "id": "c9bcb62d-d642-4c82-a10a-e871595e2219",
   "metadata": {},
   "outputs": [],
   "source": [
    "# Создаём DataFrame из one-hot encoding\n",
    "ohe_df = pd.DataFrame(ohe_result, columns=[f\"{categorical_feature}_{int(i)}\" for i in range(ohe_result.shape[1])])\n"
   ]
  },
  {
   "cell_type": "code",
   "execution_count": 33,
   "id": "73ac80d9-f587-4fdb-926b-99e2815be674",
   "metadata": {},
   "outputs": [],
   "source": [
    "# Объединяем one-hot encoding с основным DataFrame\n",
    "df = pd.concat([df, ohe_df], axis=1)"
   ]
  },
  {
   "cell_type": "markdown",
   "id": "cba9175f-8274-4f73-a546-47d14c153027",
   "metadata": {},
   "source": [
    "### Визуализация результатов масштабирования (сравним три варианта)"
   ]
  },
  {
   "cell_type": "code",
   "execution_count": 34,
   "id": "9813fed5-1eea-44d3-8ab9-04e53f4f0c0d",
   "metadata": {},
   "outputs": [
    {
     "data": {
      "image/png": "[encoded data removed]",
      "text/plain": [
       "<Figure size 1200x600 with 1 Axes>"
      ]
     },
     "metadata": {},
     "output_type": "display_data"
    }
   ],
   "source": [
    "\n",
    "plt.figure(figsize=(12, 6))\n",
    "\n",
    "sns.histplot(df[\"CRIM\"], kde=True, label=\"Original\", color=\"blue\", alpha=0.6)\n",
    "sns.histplot(df[\"CRIM_minmax\"], kde=True, label=\"MinMaxScaled\", color=\"red\", alpha=0.6)\n",
    "sns.histplot(df[\"CRIM_standard\"], kde=True, label=\"StandardScaled\", color=\"green\", alpha=0.6)\n",
    "\n",
    "plt.legend()\n",
    "plt.title(\"Comparison of Scaling Methods for CRIM\")\n",
    "plt.show()"
   ]
  },
  {
   "cell_type": "markdown",
   "id": "c5bcd4ff-ff88-4b48-bfde-c2040adfdd01",
   "metadata": {},
   "source": [
    "## Построение violin plot для MEDV (цены недвижимости) с разделением по CHAS (близость к реке)"
   ]
  },
  {
   "cell_type": "code",
   "execution_count": 35,
   "id": "707c6f4e-1a07-4fb9-a97e-f681f11c11c2",
   "metadata": {},
   "outputs": [
    {
     "data": {
      "image/png": "[encoded data removed]",
      "text/plain": [
       "<Figure size 1000x600 with 1 Axes>"
      ]
     },
     "metadata": {},
     "output_type": "display_data"
    }
   ],
   "source": [
    "\n",
    "plt.figure(figsize=(10, 6))\n",
    "sns.violinplot(x=df[\"CHAS\"], y=df[\"MEDV\"])\n",
    "plt.title(\"Violin Plot of MEDV by CHAS\")\n",
    "plt.xlabel(\"CHAS (0 - далеко от реки, 1 - рядом с рекой)\")\n",
    "plt.ylabel(\"MEDV (тыс. $)\")\n",
    "plt.show()"
   ]
  },
  {
   "cell_type": "code",
   "execution_count": null,
   "id": "c302b70f-fae4-4560-bbc0-0e93a6c47e9b",
   "metadata": {},
   "outputs": [],
   "source": []
  },
  {
   "cell_type": "code",
   "execution_count": 36,
   "id": "e242a930-a950-48c3-a8b5-b8b1e5b8fa74",
   "metadata": {},
   "outputs": [
    {
     "data": {
      "text/html": [
       "<div>\n",
       "<style scoped>\n",
       "    .dataframe tbody tr th:only-of-type {\n",
       "        vertical-align: middle;\n",
       "    }\n",
       "\n",
       "    .dataframe tbody tr th {\n",
       "        vertical-align: top;\n",
       "    }\n",
       "\n",
       "    .dataframe thead th {\n",
       "        text-align: right;\n",
       "    }\n",
       "</style>\n",
       "<table border=\"1\" class=\"dataframe\">\n",
       "  <thead>\n",
       "    <tr style=\"text-align: right;\">\n",
       "      <th></th>\n",
       "      <th>CRIM</th>\n",
       "      <th>ZN</th>\n",
       "      <th>INDUS</th>\n",
       "      <th>CHAS</th>\n",
       "      <th>NOX</th>\n",
       "      <th>RM</th>\n",
       "      <th>AGE</th>\n",
       "      <th>DIS</th>\n",
       "      <th>RAD</th>\n",
       "      <th>TAX</th>\n",
       "      <th>PTRATIO</th>\n",
       "      <th>B</th>\n",
       "      <th>LSTAT</th>\n",
       "      <th>MEDV</th>\n",
       "      <th>CRIM_minmax</th>\n",
       "      <th>CRIM_standard</th>\n",
       "      <th>CHAS_label_encoded</th>\n",
       "      <th>CHAS_0</th>\n",
       "    </tr>\n",
       "  </thead>\n",
       "  <tbody>\n",
       "    <tr>\n",
       "      <th>0</th>\n",
       "      <td>0.00632</td>\n",
       "      <td>18.0</td>\n",
       "      <td>2.31</td>\n",
       "      <td>0.0</td>\n",
       "      <td>0.538</td>\n",
       "      <td>6.575</td>\n",
       "      <td>65.2</td>\n",
       "      <td>4.0900</td>\n",
       "      <td>1.0</td>\n",
       "      <td>296.0</td>\n",
       "      <td>15.3</td>\n",
       "      <td>396.90</td>\n",
       "      <td>4.98</td>\n",
       "      <td>24.0</td>\n",
       "      <td>0.000000</td>\n",
       "      <td>-0.405592</td>\n",
       "      <td>0.0</td>\n",
       "      <td>0.0</td>\n",
       "    </tr>\n",
       "    <tr>\n",
       "      <th>1</th>\n",
       "      <td>0.02731</td>\n",
       "      <td>0.0</td>\n",
       "      <td>7.07</td>\n",
       "      <td>0.0</td>\n",
       "      <td>0.469</td>\n",
       "      <td>6.421</td>\n",
       "      <td>78.9</td>\n",
       "      <td>4.9671</td>\n",
       "      <td>2.0</td>\n",
       "      <td>242.0</td>\n",
       "      <td>17.8</td>\n",
       "      <td>396.90</td>\n",
       "      <td>9.14</td>\n",
       "      <td>21.6</td>\n",
       "      <td>0.000236</td>\n",
       "      <td>-0.403140</td>\n",
       "      <td>0.0</td>\n",
       "      <td>0.0</td>\n",
       "    </tr>\n",
       "    <tr>\n",
       "      <th>2</th>\n",
       "      <td>0.02729</td>\n",
       "      <td>0.0</td>\n",
       "      <td>7.07</td>\n",
       "      <td>0.0</td>\n",
       "      <td>0.469</td>\n",
       "      <td>7.185</td>\n",
       "      <td>61.1</td>\n",
       "      <td>4.9671</td>\n",
       "      <td>2.0</td>\n",
       "      <td>242.0</td>\n",
       "      <td>17.8</td>\n",
       "      <td>392.83</td>\n",
       "      <td>4.03</td>\n",
       "      <td>34.7</td>\n",
       "      <td>0.000236</td>\n",
       "      <td>-0.403142</td>\n",
       "      <td>0.0</td>\n",
       "      <td>0.0</td>\n",
       "    </tr>\n",
       "    <tr>\n",
       "      <th>3</th>\n",
       "      <td>0.03237</td>\n",
       "      <td>0.0</td>\n",
       "      <td>2.18</td>\n",
       "      <td>0.0</td>\n",
       "      <td>0.458</td>\n",
       "      <td>6.998</td>\n",
       "      <td>45.8</td>\n",
       "      <td>6.0622</td>\n",
       "      <td>3.0</td>\n",
       "      <td>222.0</td>\n",
       "      <td>18.7</td>\n",
       "      <td>394.63</td>\n",
       "      <td>2.94</td>\n",
       "      <td>33.4</td>\n",
       "      <td>0.000293</td>\n",
       "      <td>-0.402549</td>\n",
       "      <td>0.0</td>\n",
       "      <td>0.0</td>\n",
       "    </tr>\n",
       "    <tr>\n",
       "      <th>4</th>\n",
       "      <td>0.06905</td>\n",
       "      <td>0.0</td>\n",
       "      <td>2.18</td>\n",
       "      <td>0.0</td>\n",
       "      <td>0.458</td>\n",
       "      <td>7.147</td>\n",
       "      <td>54.2</td>\n",
       "      <td>6.0622</td>\n",
       "      <td>3.0</td>\n",
       "      <td>222.0</td>\n",
       "      <td>18.7</td>\n",
       "      <td>396.90</td>\n",
       "      <td>11.43</td>\n",
       "      <td>36.2</td>\n",
       "      <td>0.000705</td>\n",
       "      <td>-0.398265</td>\n",
       "      <td>0.0</td>\n",
       "      <td>0.0</td>\n",
       "    </tr>\n",
       "  </tbody>\n",
       "</table>\n",
       "</div>"
      ],
      "text/plain": [
       "      CRIM    ZN  INDUS  CHAS    NOX     RM   AGE     DIS  RAD    TAX  \\\n",
       "0  0.00632  18.0   2.31   0.0  0.538  6.575  65.2  4.0900  1.0  296.0   \n",
       "1  0.02731   0.0   7.07   0.0  0.469  6.421  78.9  4.9671  2.0  242.0   \n",
       "2  0.02729   0.0   7.07   0.0  0.469  7.185  61.1  4.9671  2.0  242.0   \n",
       "3  0.03237   0.0   2.18   0.0  0.458  6.998  45.8  6.0622  3.0  222.0   \n",
       "4  0.06905   0.0   2.18   0.0  0.458  7.147  54.2  6.0622  3.0  222.0   \n",
       "\n",
       "   PTRATIO       B  LSTAT  MEDV  CRIM_minmax  CRIM_standard  \\\n",
       "0     15.3  396.90   4.98  24.0     0.000000      -0.405592   \n",
       "1     17.8  396.90   9.14  21.6     0.000236      -0.403140   \n",
       "2     17.8  392.83   4.03  34.7     0.000236      -0.403142   \n",
       "3     18.7  394.63   2.94  33.4     0.000293      -0.402549   \n",
       "4     18.7  396.90  11.43  36.2     0.000705      -0.398265   \n",
       "\n",
       "   CHAS_label_encoded  CHAS_0  \n",
       "0                 0.0     0.0  \n",
       "1                 0.0     0.0  \n",
       "2                 0.0     0.0  \n",
       "3                 0.0     0.0  \n",
       "4                 0.0     0.0  "
      ]
     },
     "execution_count": 36,
     "metadata": {},
     "output_type": "execute_result"
    }
   ],
   "source": [
    "# Вывод первых строк для проверки преобразований\n",
    "df.head()"
   ]
  },
  {
   "cell_type": "code",
   "execution_count": null,
   "id": "3e88b42f-3f3c-491f-bc72-6bc3f681fb93",
   "metadata": {},
   "outputs": [],
   "source": []
  },
  {
   "cell_type": "code",
   "execution_count": null,
   "id": "766bd550-59bf-4ad9-b5dd-c898122b092b",
   "metadata": {},
   "outputs": [],
   "source": []
  },
  {
   "cell_type": "code",
   "execution_count": null,
   "id": "5af0a45c-0c5b-4ab8-833e-f55b26bda146",
   "metadata": {},
   "outputs": [],
   "source": []
  },
  {
   "cell_type": "code",
   "execution_count": null,
   "id": "46abcd86-3f58-4958-9be6-b5cd6896e2e7",
   "metadata": {},
   "outputs": [],
   "source": []
  },
  {
   "cell_type": "code",
   "execution_count": null,
   "id": "634fafd4-d084-4dd4-8fd8-00927d221936",
   "metadata": {},
   "outputs": [],
   "source": []
  },
  {
   "cell_type": "code",
   "execution_count": null,
   "id": "16f52594-3731-4a1e-890c-44f5dec54120",
   "metadata": {},
   "outputs": [],
   "source": []
  },
  {
   "cell_type": "code",
   "execution_count": null,
   "id": "3a3dfdab-2532-45bf-95d4-a8afb81b5be8",
   "metadata": {},
   "outputs": [],
   "source": []
  }
 ],
 "metadata": {
  "kernelspec": {
   "display_name": "Python 3 (ipykernel)",
   "language": "python",
   "name": "python3"
  },
  "language_info": {
   "codemirror_mode": {
    "name": "ipython",
    "version": 3
   },
   "file_extension": ".py",
   "mimetype": "text/x-python",
   "name": "python",
   "nbconvert_exporter": "python",
   "pygments_lexer": "ipython3",
   "version": "3.13.0"
  }
 },
 "nbformat": 4,
 "nbformat_minor": 5
}
